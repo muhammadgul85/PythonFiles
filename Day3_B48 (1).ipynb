{
 "cells": [
  {
   "cell_type": "code",
   "execution_count": null,
   "id": "48260fd1-4eab-4149-ae70-94e746c1f3a4",
   "metadata": {},
   "outputs": [],
   "source": [
    "# Continuation with Strings, How to "
   ]
  },
  {
   "cell_type": "code",
   "execution_count": null,
   "id": "27f6e9f3-8dcf-4725-89c3-4e71c8e499ee",
   "metadata": {},
   "outputs": [],
   "source": [
    "# Introduction to Strings\n",
    "# req : I want to have a full name "
   ]
  },
  {
   "cell_type": "code",
   "execution_count": null,
   "id": "935a725d-483a-422f-a179-a0c593f971be",
   "metadata": {},
   "outputs": [],
   "source": [
    "# General syntax of f strings"
   ]
  },
  {
   "cell_type": "code",
   "execution_count": null,
   "id": "7e2e5951-a080-4fd0-bcd5-002eccbcd0ed",
   "metadata": {},
   "outputs": [],
   "source": [
    "#f \"customer words, {placeholder1} {placeholder2}...{placeholder}\" Placeholder is holding the content or words e.g. you want to have words before print name e.g. Hello Mr/Mrs"
   ]
  },
  {
   "cell_type": "code",
   "execution_count": 24,
   "id": "f4da8c9c-f9ef-4955-918e-9b25708eb16d",
   "metadata": {},
   "outputs": [
    {
     "name": "stdout",
     "output_type": "stream",
     "text": [
      "Nikhil Kumar\n"
     ]
    }
   ],
   "source": [
    "firstname = 'nikhil'\n",
    "lastname = 'kumar'\n",
    "fullname = f\"{firstname} {lastname}\"\n",
    "print(fullname.title())"
   ]
  },
  {
   "cell_type": "code",
   "execution_count": null,
   "id": "a194dc96-4baf-4295-be57-e48ff21f819f",
   "metadata": {},
   "outputs": [],
   "source": [
    "#req : to greet nikhil"
   ]
  },
  {
   "cell_type": "code",
   "execution_count": 25,
   "id": "0b5669e1-7925-4cd5-867f-d121e5c6bff7",
   "metadata": {},
   "outputs": [
    {
     "name": "stdout",
     "output_type": "stream",
     "text": [
      "Hello, nikhil kumar\n"
     ]
    }
   ],
   "source": [
    "x = f\"Hello, {fullname}\"\n",
    "print(x)"
   ]
  },
  {
   "cell_type": "code",
   "execution_count": null,
   "id": "43674d2b-6625-420c-a444-3c4aed125f6a",
   "metadata": {},
   "outputs": [],
   "source": []
  },
  {
   "cell_type": "code",
   "execution_count": 10,
   "id": "f3b59b31-2318-480f-9f88-bb4f4ff65fbe",
   "metadata": {},
   "outputs": [
    {
     "name": "stdout",
     "output_type": "stream",
     "text": [
      "Favourite_Programming_language:pythoncjavac++swift\n"
     ]
    }
   ],
   "source": [
    "#Adding White Spaces to strings :\n",
    "\n",
    "print (\"Favourite_Programming_language:pythoncjavac++swift\")"
   ]
  },
  {
   "cell_type": "code",
   "execution_count": 13,
   "id": "6437b8d4-83e8-454c-b601-a3d6832b7122",
   "metadata": {},
   "outputs": [
    {
     "name": "stdout",
     "output_type": "stream",
     "text": [
      "Favourite_Programming_language:\n",
      "python\n",
      "c\n",
      "java\n",
      "c++\n",
      "swift\n"
     ]
    }
   ],
   "source": [
    "#better way to do above    #\\n -> New Line Delimeter\n",
    "\n",
    "print (\"Favourite_Programming_language:\\npython\\nc\\njava\\nc++\\nswift\")\n"
   ]
  },
  {
   "cell_type": "code",
   "execution_count": 14,
   "id": "395e598a-7fd9-456e-864e-c4db49352779",
   "metadata": {},
   "outputs": [
    {
     "name": "stdout",
     "output_type": "stream",
     "text": [
      "Favourite_Programming_language:\n",
      "\tpython\n",
      "\tc\n",
      "\tjava\n",
      "\tc++\n",
      "\tswift\n"
     ]
    }
   ],
   "source": [
    "#better way to do above    #\\t -> Tab Delimeter (Printing after giving a tab space) See below result\n",
    "\n",
    "print (\"Favourite_Programming_language:\\n\\tpython\\n\\tc\\n\\tjava\\n\\tc++\\n\\tswift\")\n",
    "\n"
   ]
  },
  {
   "cell_type": "code",
   "execution_count": 16,
   "id": "a079ae1a-f012-424b-97f8-aeb90e80d7eb",
   "metadata": {},
   "outputs": [
    {
     "name": "stdout",
     "output_type": "stream",
     "text": [
      "python\n"
     ]
    }
   ],
   "source": [
    "# Removing Whitespaces from Strings : (Removing unnecessary Gaps). You have to strip it off, by using lstrip() method (for leftside space) and rstrip(righspace)\n",
    "\n",
    "x = 'python'\n",
    "print(x)\n"
   ]
  },
  {
   "cell_type": "code",
   "execution_count": 21,
   "id": "21144340-072d-4224-9859-5d55bdc51cfd",
   "metadata": {},
   "outputs": [
    {
     "name": "stdout",
     "output_type": "stream",
     "text": [
      "     python\n"
     ]
    }
   ],
   "source": [
    "y =    '     python'\n",
    "print(y)\n"
   ]
  },
  {
   "cell_type": "code",
   "execution_count": 20,
   "id": "4ffd9cbe-7785-4802-882e-bc5e1a766f64",
   "metadata": {},
   "outputs": [
    {
     "name": "stdout",
     "output_type": "stream",
     "text": [
      "python     \n"
     ]
    }
   ],
   "source": [
    "z = 'python     '\n",
    "print(z)"
   ]
  },
  {
   "cell_type": "code",
   "execution_count": 22,
   "id": "66c8c579-7dd9-47f6-9c51-78bcb2d311cc",
   "metadata": {},
   "outputs": [
    {
     "data": {
      "text/plain": [
       "'python'"
      ]
     },
     "execution_count": 22,
     "metadata": {},
     "output_type": "execute_result"
    }
   ],
   "source": [
    "y.lstrip()"
   ]
  },
  {
   "cell_type": "code",
   "execution_count": 23,
   "id": "1a940e60-365b-49ad-a3d0-15a4a930c985",
   "metadata": {},
   "outputs": [
    {
     "data": {
      "text/plain": [
       "'python'"
      ]
     },
     "execution_count": 23,
     "metadata": {},
     "output_type": "execute_result"
    }
   ],
   "source": [
    "z.rstrip()"
   ]
  },
  {
   "cell_type": "code",
   "execution_count": 29,
   "id": "7ddd8de0-d810-4dd5-945d-3b34cfcc53ba",
   "metadata": {},
   "outputs": [
    {
     "name": "stdout",
     "output_type": "stream",
     "text": [
      "muhammad gul\n"
     ]
    }
   ],
   "source": [
    "fname = 'muhammad'\n",
    "lname= 'gul'\n",
    "fullname = f\"{fname} {lname}\"\n",
    "print(fullname)"
   ]
  },
  {
   "cell_type": "code",
   "execution_count": 30,
   "id": "b2e0d7da-90f9-47ce-a4e8-e7a930dcad6d",
   "metadata": {},
   "outputs": [
    {
     "name": "stdout",
     "output_type": "stream",
     "text": [
      "Muhammad Gul\n"
     ]
    }
   ],
   "source": [
    "print(fullname.title())"
   ]
  },
  {
   "cell_type": "code",
   "execution_count": 31,
   "id": "65fa036e-a88d-4460-b8c7-388daad05455",
   "metadata": {},
   "outputs": [
    {
     "name": "stdout",
     "output_type": "stream",
     "text": [
      "muhammad gul\n"
     ]
    }
   ],
   "source": [
    "print(fullname.lower())"
   ]
  },
  {
   "cell_type": "code",
   "execution_count": 39,
   "id": "f47a103d-efab-4e7f-a987-0361aa91ac92",
   "metadata": {},
   "outputs": [
    {
     "name": "stdout",
     "output_type": "stream",
     "text": [
      "Hello, Muhammad Gul\n"
     ]
    }
   ],
   "source": [
    "j = f\"Hello, {fullname}\" \n",
    "print(j.title())\n",
    "\n",
    "\n",
    "#x = f\"Hello, {fullname}\"\n",
    "#print(x)"
   ]
  },
  {
   "cell_type": "code",
   "execution_count": 40,
   "id": "4f6d7f44-31dc-4a67-a781-3ba4bac8702e",
   "metadata": {},
   "outputs": [
    {
     "name": "stdout",
     "output_type": "stream",
     "text": [
      "Favoirte movies:KingdomofHeavencTroycRomewasnotbuiltinadaycTomcat\n",
      "Favourite_Programming_language:pythoncjavac++swift\n"
     ]
    }
   ],
   "source": [
    "print(\"Favoirte movies:KingdomofHeavencTroycRomewasnotbuiltinadaycTomcat\")\n",
    "print (\"Favourite_Programming_language:pythoncjavac++swift\")"
   ]
  },
  {
   "cell_type": "code",
   "execution_count": 45,
   "id": "228d696e-3372-4a86-9a7a-85548c6f809f",
   "metadata": {},
   "outputs": [
    {
     "name": "stdout",
     "output_type": "stream",
     "text": [
      "Favoirte movies:\n",
      "Kingdom of Heaven\n",
      "Troy\n",
      "Rome was not built in a day\n",
      "Tomcat\n"
     ]
    }
   ],
   "source": [
    "print(\"Favoirte movies:\\nKingdom of Heaven\\nTroy\\nRome was not built in a day\\nTomcat\")"
   ]
  },
  {
   "cell_type": "code",
   "execution_count": 48,
   "id": "7a0c8e99-deca-41b2-b809-6efab86d59a0",
   "metadata": {},
   "outputs": [
    {
     "name": "stdout",
     "output_type": "stream",
     "text": [
      "Aslam\n",
      "akram\n",
      "ansari\n"
     ]
    }
   ],
   "source": [
    "k = '     Aslam'\n",
    "l = 'akram     '\n",
    "z = ' ansari'\n",
    "print(k.lstrip())\n",
    "print(l.rstrip())\n",
    "print(z.lstrip())\n"
   ]
  },
  {
   "cell_type": "code",
   "execution_count": 49,
   "id": "43125e54-d80c-4d5b-b59e-cf992f78eeea",
   "metadata": {},
   "outputs": [
    {
     "name": "stdout",
     "output_type": "stream",
     "text": [
      "Akram     \n"
     ]
    }
   ],
   "source": [
    "print(l.title())"
   ]
  },
  {
   "cell_type": "code",
   "execution_count": null,
   "id": "6c070c07-5b42-48df-8d67-2dad079eb771",
   "metadata": {},
   "outputs": [],
   "source": []
  }
 ],
 "metadata": {
  "kernelspec": {
   "display_name": "Python 3",
   "language": "python",
   "name": "python3"
  },
  "language_info": {
   "codemirror_mode": {
    "name": "ipython",
    "version": 3
   },
   "file_extension": ".py",
   "mimetype": "text/x-python",
   "name": "python",
   "nbconvert_exporter": "python",
   "pygments_lexer": "ipython3",
   "version": "3.8.8"
  }
 },
 "nbformat": 4,
 "nbformat_minor": 5
}
