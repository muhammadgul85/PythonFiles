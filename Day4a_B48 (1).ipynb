{
 "cells": [
  {
   "cell_type": "code",
   "execution_count": null,
   "id": "0230fdfa-e93e-4f65-832b-7fd967df5aef",
   "metadata": {},
   "outputs": [],
   "source": [
    "# 14th July 2021. Today Topic ##   \n",
    "## ORGANISING A LIST DATA TYPE "
   ]
  },
  {
   "cell_type": "code",
   "execution_count": 1,
   "id": "6c5fc1ee-28e9-460b-97ec-ad53a18fc100",
   "metadata": {},
   "outputs": [
    {
     "name": "stdout",
     "output_type": "stream",
     "text": [
      "['vw', 'bmw', 'suzuki', 'benz', 'kia']\n"
     ]
    }
   ],
   "source": [
    "cars = ['vw', 'bmw', 'suzuki', 'benz', 'kia']\n",
    "print(cars)"
   ]
  },
  {
   "cell_type": "code",
   "execution_count": null,
   "id": "e047b983-81d6-4020-a2e4-b27c039e4c9f",
   "metadata": {},
   "outputs": [],
   "source": [
    "#Organise the list in alphabetical order  A...Z ?\n",
    "#Two Approaches\n",
    "1. Temporary Approach = Changes made will be reversed                  --- Method --- sorted          \n",
    "2. Permanent Approach = Changes made will be permanently applied       ----Method =--- sort"
   ]
  },
  {
   "cell_type": "code",
   "execution_count": 2,
   "id": "64c7205e-46ad-4d6c-b1ab-6b19aa93b9fe",
   "metadata": {},
   "outputs": [
    {
     "name": "stdout",
     "output_type": "stream",
     "text": [
      "['benz', 'bmw', 'kia', 'suzuki', 'vw']\n"
     ]
    }
   ],
   "source": [
    "print(sorted(cars))"
   ]
  },
  {
   "cell_type": "code",
   "execution_count": 4,
   "id": "57e814b9-a2a9-431a-9f55-f0cb367964c3",
   "metadata": {},
   "outputs": [],
   "source": [
    "#After first letter which is bmw and benz, second alphabet in order is selected if the first letter is same e.g. in above case benz and bmw both have b as the first letter"
   ]
  },
  {
   "cell_type": "code",
   "execution_count": 5,
   "id": "6e66c23b-ee74-4b8e-b47b-dbeaeaf7823a",
   "metadata": {},
   "outputs": [
    {
     "name": "stdout",
     "output_type": "stream",
     "text": [
      "['benz', 'bmw', 'kia', 'suzuki', 'vw']\n"
     ]
    }
   ],
   "source": [
    "#Permanent Approach\n",
    "cars.sort()\n",
    "print(cars)"
   ]
  },
  {
   "cell_type": "code",
   "execution_count": null,
   "id": "ddf4578b-aab0-4a62-a47c-f8246273cb79",
   "metadata": {},
   "outputs": [],
   "source": [
    "# how to count the elements that are present in the list  ---- >  len method"
   ]
  },
  {
   "cell_type": "code",
   "execution_count": 7,
   "id": "8091a443-8ad6-438f-a921-d1ae822ef1d3",
   "metadata": {},
   "outputs": [
    {
     "data": {
      "text/plain": [
       "5"
      ]
     },
     "execution_count": 7,
     "metadata": {},
     "output_type": "execute_result"
    }
   ],
   "source": [
    "len(cars)"
   ]
  },
  {
   "cell_type": "code",
   "execution_count": 8,
   "id": "884bbddc-13f3-4edb-a958-3ac8d276f1a9",
   "metadata": {},
   "outputs": [
    {
     "name": "stdout",
     "output_type": "stream",
     "text": [
      "['benz', 'bmw', 'kia', 'suzuki', 'vw']\n"
     ]
    }
   ],
   "source": [
    "print(cars)"
   ]
  },
  {
   "cell_type": "code",
   "execution_count": null,
   "id": "8620ecef-60db-4e11-8f24-47df457affd3",
   "metadata": {},
   "outputs": [],
   "source": [
    "# How to reverse the list i.e. how to print the list in a reverse order ?   ---- Method is --- >>>> reverse ()"
   ]
  },
  {
   "cell_type": "code",
   "execution_count": 9,
   "id": "3d460d42-2d9c-4465-bfa1-f4a2d9a819e5",
   "metadata": {},
   "outputs": [
    {
     "name": "stdout",
     "output_type": "stream",
     "text": [
      "['vw', 'suzuki', 'kia', 'bmw', 'benz']\n"
     ]
    }
   ],
   "source": [
    "cars.reverse ()\n",
    "print(cars)"
   ]
  },
  {
   "cell_type": "code",
   "execution_count": null,
   "id": "5309d4b3-1ae3-47dd-8bc6-834dbab378ae",
   "metadata": {},
   "outputs": [],
   "source": [
    "# INTRODUCTION TO SLICING OF LIST ---small Groups -- General Syntax of Slicing-- METHODS ----- [startvalu:stopvalue:stepcount]"
   ]
  },
  {
   "cell_type": "code",
   "execution_count": 13,
   "id": "563a32af-042d-4d4c-9de3-4c692013370a",
   "metadata": {},
   "outputs": [],
   "source": [
    "students = ['yogesh', 'prudhvi', 'deepa','Reema', 'Chandni', 'Ashwarya', 'Sana', 'Madhuri', 'Jacquiline']"
   ]
  },
  {
   "cell_type": "code",
   "execution_count": 14,
   "id": "5c781273-52e3-458e-bb31-33cf78738728",
   "metadata": {},
   "outputs": [],
   "source": [
    "\n",
    "#Note : Stop Value is always exclusive -- it wont be considred in a slice\n",
    "\n"
   ]
  },
  {
   "cell_type": "code",
   "execution_count": 15,
   "id": "275f2ae9-9edf-4776-8fb1-6eeb6024d9fd",
   "metadata": {},
   "outputs": [
    {
     "name": "stdout",
     "output_type": "stream",
     "text": [
      "['yogesh']\n"
     ]
    }
   ],
   "source": [
    "print (students [0:1]) # we have to add +1"
   ]
  },
  {
   "cell_type": "code",
   "execution_count": 17,
   "id": "2b5ba690-1c85-4e7c-b7c3-74edb8d52b70",
   "metadata": {},
   "outputs": [
    {
     "name": "stdout",
     "output_type": "stream",
     "text": [
      "['yogesh', 'prudhvi']\n"
     ]
    }
   ],
   "source": [
    "print(students[0:2]) # here we have added +1 to print first two objects, because stop value is exclusive "
   ]
  },
  {
   "cell_type": "code",
   "execution_count": null,
   "id": "55a38992-d738-4031-abbd-adc40a13b63a",
   "metadata": {},
   "outputs": [],
   "source": []
  }
 ],
 "metadata": {
  "kernelspec": {
   "display_name": "Python 3",
   "language": "python",
   "name": "python3"
  },
  "language_info": {
   "codemirror_mode": {
    "name": "ipython",
    "version": 3
   },
   "file_extension": ".py",
   "mimetype": "text/x-python",
   "name": "python",
   "nbconvert_exporter": "python",
   "pygments_lexer": "ipython3",
   "version": "3.8.8"
  }
 },
 "nbformat": 4,
 "nbformat_minor": 5
}
