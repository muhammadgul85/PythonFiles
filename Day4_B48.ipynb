{
 "cells": [
  {
   "cell_type": "code",
   "execution_count": null,
   "id": "6614a7d6-e0a5-4907-b481-0334a3b20e1d",
   "metadata": {},
   "outputs": [],
   "source": [
    "#Introduction to List DataType: "
   ]
  },
  {
   "cell_type": "code",
   "execution_count": null,
   "id": "1cb40cfe-ec3a-47ab-a890-d65fc2a69847",
   "metadata": {},
   "outputs": [],
   "source": [
    "#Overview : A list is a collection of items maintained in a particular order\n",
    "#Classification: It is classified as a mutable datatype (Flexible)\n",
    " #   How do you define a list ? by using square brackets []\n",
    "    \n",
    "    "
   ]
  },
  {
   "cell_type": "code",
   "execution_count": 3,
   "id": "a9179709-cb16-40ca-8b1f-73f01a671568",
   "metadata": {},
   "outputs": [
    {
     "name": "stdout",
     "output_type": "stream",
     "text": [
      "['kumar', 'khan', 'Muneeb', 'Farooq', 'ayub', 'imran', 'joseph']\n"
     ]
    }
   ],
   "source": [
    "student = ['kumar', 'khan', 'Muneeb', 'Farooq', 'ayub', 'imran', 'joseph']\n",
    "print(student)"
   ]
  },
  {
   "cell_type": "code",
   "execution_count": 5,
   "id": "a7cac2f2-938c-48c9-b98a-7775fe2e48b7",
   "metadata": {},
   "outputs": [
    {
     "data": {
      "text/plain": [
       "list"
      ]
     },
     "execution_count": 5,
     "metadata": {},
     "output_type": "execute_result"
    }
   ],
   "source": [
    "#Findout what type of data it is by using type()\n",
    "type(student)"
   ]
  },
  {
   "cell_type": "code",
   "execution_count": 8,
   "id": "ceba2f6f-a55b-46c1-a3de-0890a1a964d1",
   "metadata": {},
   "outputs": [
    {
     "name": "stdout",
     "output_type": "stream",
     "text": [
      "kumar\n",
      "khan\n",
      "ayub\n"
     ]
    }
   ],
   "source": [
    "#how to access the elements of the list for example i want to access the first element from the list which is Kumar\n",
    "# Introduction to indexing .. when we declare elements in the list, at the backend system index them starting from 0, 1, and onward \n",
    "#By using the concept of indexing we can access the elements from the list\n",
    "\n",
    "\n",
    "print(student [0])\n",
    "print(student [1])\n",
    "print(student[4])"
   ]
  },
  {
   "cell_type": "code",
   "execution_count": null,
   "id": "8c64e831-83b9-414f-a71f-e1b1e6f46b31",
   "metadata": {},
   "outputs": [],
   "source": [
    "#How to add new elements to the list \n",
    "\n",
    "# How to modify the elements of the list\n",
    "\n",
    "# How to delete the elements of the list"
   ]
  },
  {
   "cell_type": "code",
   "execution_count": 9,
   "id": "e873eed4-bb3c-43c2-bf82-76a5ded6a0bf",
   "metadata": {},
   "outputs": [
    {
     "name": "stdout",
     "output_type": "stream",
     "text": [
      "['kumar', 'khan', 'Muneeb', 'Farooq', 'ayub', 'imran', 'joseph', 'nikil']\n"
     ]
    }
   ],
   "source": [
    "student.append('nikil')\n",
    "print(student)"
   ]
  },
  {
   "cell_type": "code",
   "execution_count": 10,
   "id": "5df001ed-46ac-437a-9619-1c9074e6d4e2",
   "metadata": {},
   "outputs": [
    {
     "name": "stdout",
     "output_type": "stream",
     "text": [
      "['kumar', 'khan', 'Muneeb', 'Farooq', 'ayub', 'imran', 'joseph', 'nikil', 'Deepa']\n"
     ]
    }
   ],
   "source": [
    "# add Deepa\n",
    "student.append ('Deepa')\n",
    "print(student)"
   ]
  },
  {
   "cell_type": "code",
   "execution_count": 12,
   "id": "4b3a5281-508b-4f26-b8c0-7cca2a2d3f63",
   "metadata": {},
   "outputs": [],
   "source": [
    "#The above elements are added to the last, Can we add the name in the last at our own custom place, yes we can e.g. add Ayesha to 2nd index\n"
   ]
  },
  {
   "cell_type": "code",
   "execution_count": 23,
   "id": "1bb10cbc-f9dc-462f-9259-7857140c3a0c",
   "metadata": {
    "tags": []
   },
   "outputs": [
    {
     "name": "stdout",
     "output_type": "stream",
     "text": [
      "Ayesha\n"
     ]
    }
   ],
   "source": [
    "student.insert(2, 'Ayesha')\n",
    "print(student[2])\n"
   ]
  },
  {
   "cell_type": "code",
   "execution_count": 24,
   "id": "dccbb05e-79bf-47ac-b879-9500cd1c76d3",
   "metadata": {},
   "outputs": [
    {
     "name": "stdout",
     "output_type": "stream",
     "text": [
      "['kumar', 'Kalyan', 'Ayesha', 'Ayesha', 'Ayesha', 'Ayesha', 'Ayesha', 'Ayesha', 'Ayesha', 'Ayesha', 'Muneeb', 'Farooq', 'ayub', 'imran', 'joseph', 'nikil', 'Deepa']\n"
     ]
    }
   ],
   "source": [
    "#Modify Elements of the list. Req # Replace Naveen with Kalyan\n",
    "\n",
    "student [1] = 'Kalyan'\n",
    "\n",
    "print(student)"
   ]
  },
  {
   "cell_type": "code",
   "execution_count": 25,
   "id": "22f165e8-0d24-46d6-9657-453830577902",
   "metadata": {},
   "outputs": [
    {
     "name": "stdout",
     "output_type": "stream",
     "text": [
      "['kumar', 'Kalyan', 'Ayesha', 'Ayesha', 'Ayesha', 'Ayesha', 'Ayesha', 'Ayesha', 'Ayesha', 'Muneeb', 'Farooq', 'ayub', 'imran', 'joseph', 'nikil', 'Deepa']\n"
     ]
    }
   ],
   "source": [
    "#How to Delete the element from the list, e.g. Delete Ayesha by using del method\n",
    "\n",
    "del student [2]\n",
    "print(student)"
   ]
  },
  {
   "cell_type": "code",
   "execution_count": null,
   "id": "ff483fd8-4fbb-4cf8-a711-936fb039c390",
   "metadata": {},
   "outputs": [],
   "source": []
  }
 ],
 "metadata": {
  "kernelspec": {
   "display_name": "Python 3",
   "language": "python",
   "name": "python3"
  },
  "language_info": {
   "codemirror_mode": {
    "name": "ipython",
    "version": 3
   },
   "file_extension": ".py",
   "mimetype": "text/x-python",
   "name": "python",
   "nbconvert_exporter": "python",
   "pygments_lexer": "ipython3",
   "version": "3.8.8"
  }
 },
 "nbformat": 4,
 "nbformat_minor": 5
}
