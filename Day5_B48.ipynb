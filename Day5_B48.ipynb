{
 "cells": [
  {
   "cell_type": "code",
   "execution_count": null,
   "id": "3d26b20b-1da9-4f8d-9381-5aea9901176b",
   "metadata": {},
   "outputs": [],
   "source": [
    "#Introduction to Looping statements"
   ]
  },
  {
   "cell_type": "code",
   "execution_count": null,
   "id": "858ad991-6dfc-4389-ae24-a7f015bc638f",
   "metadata": {},
   "outputs": [],
   "source": [
    "overview of the loops"
   ]
  },
  {
   "cell_type": "code",
   "execution_count": 4,
   "id": "c2731a1f-bfee-43bf-a288-2004197ab550",
   "metadata": {},
   "outputs": [
    {
     "name": "stdout",
     "output_type": "stream",
     "text": [
      "['tirviani', 'ayesha', 'kiran', 'naveen', 'javed', 'dildar']\n"
     ]
    }
   ],
   "source": [
    "students= ['tirviani', 'ayesha', 'kiran', 'naveen', 'javed', 'dildar']\n",
    "print(students)"
   ]
  },
  {
   "cell_type": "code",
   "execution_count": 5,
   "id": "d771ae1c-52fe-451b-b7b7-af5d916fb876",
   "metadata": {},
   "outputs": [
    {
     "data": {
      "text/plain": [
       "list"
      ]
     },
     "execution_count": 5,
     "metadata": {},
     "output_type": "execute_result"
    }
   ],
   "source": [
    "type(students)"
   ]
  },
  {
   "cell_type": "code",
   "execution_count": null,
   "id": "915b9927-033b-412d-900a-1a45f527b668",
   "metadata": {},
   "outputs": [],
   "source": [
    "#req : to appreciate the student"
   ]
  },
  {
   "cell_type": "code",
   "execution_count": 10,
   "id": "cdc77a2a-7312-4808-a568-8f92463a8148",
   "metadata": {},
   "outputs": [
    {
     "name": "stdout",
     "output_type": "stream",
     "text": [
      "keep up the good work, tirviani\n"
     ]
    }
   ],
   "source": [
    "print(f\"keep up the good work, {students[0]}\")"
   ]
  },
  {
   "cell_type": "code",
   "execution_count": 7,
   "id": "9768d7db-603a-4cca-822a-6ea7447d1a5c",
   "metadata": {},
   "outputs": [
    {
     "name": "stdout",
     "output_type": "stream",
     "text": [
      "keep up the good work, Tirviani\n"
     ]
    }
   ],
   "source": [
    "print(f\"keep up the good work, {students[0].title()}\")"
   ]
  },
  {
   "cell_type": "code",
   "execution_count": 8,
   "id": "28cf01bb-0393-4c5b-a7a4-d5cd3613be32",
   "metadata": {},
   "outputs": [
    {
     "name": "stdout",
     "output_type": "stream",
     "text": [
      "keep up the good work, Ayesha\n"
     ]
    }
   ],
   "source": [
    "print(f\"keep up the good work, {students[1].title()}\")"
   ]
  },
  {
   "cell_type": "code",
   "execution_count": 9,
   "id": "a5aed329-e3ce-45bb-b7ea-1d4bff60b29b",
   "metadata": {},
   "outputs": [
    {
     "name": "stdout",
     "output_type": "stream",
     "text": [
      "keep up the good work, Kiran\n"
     ]
    }
   ],
   "source": [
    "print(f\"keep up the good work, {students[2].title()}\")"
   ]
  },
  {
   "cell_type": "code",
   "execution_count": null,
   "id": "6c4b08c0-ea7b-4280-9486-463c943ce252",
   "metadata": {},
   "outputs": [],
   "source": [
    "#Formuala\n",
    "\n",
    "for tempvar in mainvar"
   ]
  },
  {
   "cell_type": "code",
   "execution_count": 12,
   "id": "2e3696ff-ecf6-4b54-b11a-ebe14512f795",
   "metadata": {},
   "outputs": [
    {
     "name": "stdout",
     "output_type": "stream",
     "text": [
      "keep up the good work, Tirviani\n",
      "keep up the good work, Ayesha\n",
      "keep up the good work, Kiran\n",
      "keep up the good work, Naveen\n",
      "keep up the good work, Javed\n",
      "keep up the good work, Dildar\n"
     ]
    }
   ],
   "source": [
    "for x in students:\n",
    "    print(f\"keep up the good work, {x.title()}\")"
   ]
  },
  {
   "cell_type": "code",
   "execution_count": 15,
   "id": "c2b3229d-13ab-4700-909d-a854a82f1a87",
   "metadata": {},
   "outputs": [
    {
     "name": "stdout",
     "output_type": "stream",
     "text": [
      "keep your heads up, Tirviani\n",
      "keep your heads up, Ayesha\n",
      "keep your heads up, Kiran\n",
      "keep your heads up, Naveen\n",
      "keep your heads up, Javed\n",
      "keep your heads up, Dildar\n"
     ]
    }
   ],
   "source": [
    "#indentation = the gap before print in below print statement\n",
    "for a in students:\n",
    "    print(f\"keep your heads up, {a.title()}\")"
   ]
  },
  {
   "cell_type": "code",
   "execution_count": 16,
   "id": "0744bfe6-495e-40ea-8380-f91bc711f8a4",
   "metadata": {},
   "outputs": [
    {
     "ename": "IndentationError",
     "evalue": "expected an indented block (<ipython-input-16-5db82b03b4a8>, line 3)",
     "output_type": "error",
     "traceback": [
      "\u001b[1;36m  File \u001b[1;32m\"<ipython-input-16-5db82b03b4a8>\"\u001b[1;36m, line \u001b[1;32m3\u001b[0m\n\u001b[1;33m    print(f\"keep your heads up, {a.title()}\")\u001b[0m\n\u001b[1;37m    ^\u001b[0m\n\u001b[1;31mIndentationError\u001b[0m\u001b[1;31m:\u001b[0m expected an indented block\n"
     ]
    }
   ],
   "source": [
    "#indentation = the gap before print in below print statement, if the gap is not given(indentation then system will throw indentation error)\n",
    "for a in students:\n",
    "print(f\"keep your heads up, {a.title()}\")"
   ]
  },
  {
   "cell_type": "code",
   "execution_count": 19,
   "id": "43e12cf5-5aad-4eb8-a5a3-147ac07ddbf1",
   "metadata": {},
   "outputs": [
    {
     "name": "stdout",
     "output_type": "stream",
     "text": [
      "keep up the good work, Tirviani\n",
      "I am looking forward to receive your notes, Tirviani\n",
      "keep up the good work, Ayesha\n",
      "I am looking forward to receive your notes, Ayesha\n",
      "keep up the good work, Kiran\n",
      "I am looking forward to receive your notes, Kiran\n",
      "keep up the good work, Naveen\n",
      "I am looking forward to receive your notes, Naveen\n",
      "keep up the good work, Javed\n",
      "I am looking forward to receive your notes, Javed\n",
      "keep up the good work, Dildar\n",
      "I am looking forward to receive your notes, Dildar\n"
     ]
    }
   ],
   "source": [
    "for a in students:\n",
    "    print(f\"keep up the good work, {a.title()}\")\n",
    "    print(f\"I am looking forward to receive your notes, {a.title()}\")"
   ]
  },
  {
   "cell_type": "code",
   "execution_count": 20,
   "id": "1ed90979-aa9b-412b-aadc-63bea7072dc4",
   "metadata": {},
   "outputs": [
    {
     "name": "stdout",
     "output_type": "stream",
     "text": [
      "keep up good work, Tirviani\n",
      "I am looking forward to recieve your work, Tirviani.\n",
      "\n",
      "keep up good work, Ayesha\n",
      "I am looking forward to recieve your work, Ayesha.\n",
      "\n",
      "keep up good work, Kiran\n",
      "I am looking forward to recieve your work, Kiran.\n",
      "\n",
      "keep up good work, Naveen\n",
      "I am looking forward to recieve your work, Naveen.\n",
      "\n",
      "keep up good work, Javed\n",
      "I am looking forward to recieve your work, Javed.\n",
      "\n",
      "keep up good work, Dildar\n",
      "I am looking forward to recieve your work, Dildar.\n",
      "\n"
     ]
    }
   ],
   "source": [
    "for a in students:\n",
    "    print(f\"keep up good work, {a.title()}\")\n",
    "    print(f\"I am looking forward to recieve your work, {a.title()}.\\n\")"
   ]
  },
  {
   "cell_type": "code",
   "execution_count": 22,
   "id": "b72a5f12-020d-42f9-8cb1-d81ef5c21303",
   "metadata": {},
   "outputs": [
    {
     "name": "stdout",
     "output_type": "stream",
     "text": [
      "You are working very hard, Tirviani\n",
      "Spare six months for your skills polish, Tirviani.\n",
      "\n",
      "You are working very hard, Ayesha\n",
      "Spare six months for your skills polish, Ayesha.\n",
      "\n",
      "You are working very hard, Kiran\n",
      "Spare six months for your skills polish, Kiran.\n",
      "\n",
      "You are working very hard, Naveen\n",
      "Spare six months for your skills polish, Naveen.\n",
      "\n",
      "You are working very hard, Javed\n",
      "Spare six months for your skills polish, Javed.\n",
      "\n",
      "You are working very hard, Dildar\n",
      "Spare six months for your skills polish, Dildar.\n",
      "\n"
     ]
    }
   ],
   "source": [
    "for c in students:\n",
    "    print(f\"You are working very hard, {c.title()}\")\n",
    "    print(f\"Spare six months for your skills polish, {c.title()}.\\n\")"
   ]
  },
  {
   "cell_type": "code",
   "execution_count": 23,
   "id": "2aae3ebc-461d-4efa-be81-8eb7e84967b7",
   "metadata": {},
   "outputs": [
    {
     "name": "stdout",
     "output_type": "stream",
     "text": [
      "You are working very hard, Tirviani\n",
      "Spare six months for your skills polish, Tirviani.\n",
      "\n",
      "You are working very hard, Ayesha\n",
      "Spare six months for your skills polish, Ayesha.\n",
      "\n",
      "You are working very hard, Kiran\n",
      "Spare six months for your skills polish, Kiran.\n",
      "\n",
      "You are working very hard, Naveen\n",
      "Spare six months for your skills polish, Naveen.\n",
      "\n",
      "You are working very hard, Javed\n",
      "Spare six months for your skills polish, Javed.\n",
      "\n",
      "You are working very hard, Dildar\n",
      "Spare six months for your skills polish, Dildar.\n",
      "\n",
      "Thank you all for showing interest in learning python\n"
     ]
    }
   ],
   "source": [
    "for c in students:\n",
    "    print(f\"You are working very hard, {c.title()}\")\n",
    "    print(f\"Spare six months for your skills polish, {c.title()}.\\n\")\n",
    "#you want to print line only once, this will be outside the loop\n",
    "\n",
    "print(\"Thank you all for showing interest in learning python\")"
   ]
  },
  {
   "cell_type": "code",
   "execution_count": 27,
   "id": "2d5d4851-9f29-4e4e-b29a-633bc6ca6a54",
   "metadata": {},
   "outputs": [
    {
     "name": "stdout",
     "output_type": "stream",
     "text": [
      "You are doing well, Tirviani.\n",
      "\n",
      "You are doing well, Ayesha.\n",
      "\n",
      "You are doing well, Kiran.\n",
      "\n",
      "You are doing well, Naveen.\n",
      "\n",
      "You are doing well, Javed.\n",
      "\n",
      "You are doing well, Dildar.\n",
      "\n",
      "Thanks for the sessions that you are providing\n"
     ]
    }
   ],
   "source": [
    "for d in students:\n",
    "    print(f\"You are doing well, {d.title()}.\\n\")\n",
    "    \n",
    "print(\"Thanks for the sessions that you are providing\")"
   ]
  },
  {
   "cell_type": "code",
   "execution_count": 30,
   "id": "0217f38f-8b26-4750-876c-8a213dad876c",
   "metadata": {},
   "outputs": [
    {
     "name": "stdout",
     "output_type": "stream",
     "text": [
      "['Yaseen', 'Afzal', 'Ansari', 'Ankit', 'Shareef', 'Faiyaz']\n"
     ]
    }
   ],
   "source": [
    "teachers = ['Yaseen', 'Afzal', 'Ansari', 'Ankit', 'Shareef', 'Faiyaz']\n",
    "print(teachers)"
   ]
  },
  {
   "cell_type": "code",
   "execution_count": 31,
   "id": "be7f6fd0-9526-49ed-ba18-2ab6146efcc8",
   "metadata": {},
   "outputs": [
    {
     "data": {
      "text/plain": [
       "list"
      ]
     },
     "execution_count": 31,
     "metadata": {},
     "output_type": "execute_result"
    }
   ],
   "source": [
    "type(teachers)"
   ]
  },
  {
   "cell_type": "code",
   "execution_count": 33,
   "id": "346eebfa-a1c8-4154-901a-af36ee9216cc",
   "metadata": {},
   "outputs": [
    {
     "name": "stdout",
     "output_type": "stream",
     "text": [
      "Thank you very much for all your support, Yaseen\n"
     ]
    }
   ],
   "source": [
    "print(f\"Thank you very much for all your support, {teachers[0]}\")"
   ]
  },
  {
   "cell_type": "code",
   "execution_count": 34,
   "id": "a1c0adf1-728e-4bc6-a13a-a08d63d0b16a",
   "metadata": {},
   "outputs": [
    {
     "name": "stdout",
     "output_type": "stream",
     "text": [
      "Thanks for your efforts in building my career, I really appreciate it, Yaseen.\n",
      "\n",
      "Thanks for your efforts in building my career, I really appreciate it, Afzal.\n",
      "\n",
      "Thanks for your efforts in building my career, I really appreciate it, Ansari.\n",
      "\n",
      "Thanks for your efforts in building my career, I really appreciate it, Ankit.\n",
      "\n",
      "Thanks for your efforts in building my career, I really appreciate it, Shareef.\n",
      "\n",
      "Thanks for your efforts in building my career, I really appreciate it, Faiyaz.\n",
      "\n",
      "Thanks Again\n"
     ]
    }
   ],
   "source": [
    "for a in teachers:\n",
    "    print(f\"Thanks for your efforts in building my career, I really appreciate it, {a.title()}.\\n\")\n",
    "    \n",
    "    \n",
    "print(\"Thanks Again\")"
   ]
  },
  {
   "cell_type": "code",
   "execution_count": 36,
   "id": "2a9ff8fd-3697-4a72-850b-337b71e02ced",
   "metadata": {},
   "outputs": [
    {
     "name": "stdout",
     "output_type": "stream",
     "text": [
      "['Yaseen', 'Afzal', 'Ansari', 'Ankit', 'Shareef', 'Faiyaz', 'Dinesh', 'Dinesh']\n"
     ]
    }
   ],
   "source": [
    "teachers.append ('Dinesh')\n",
    "print(teachers)"
   ]
  },
  {
   "cell_type": "code",
   "execution_count": 37,
   "id": "c142a7ad-2994-483e-8807-277dadb69bd5",
   "metadata": {},
   "outputs": [
    {
     "name": "stdout",
     "output_type": "stream",
     "text": [
      "['Yaseen', 'Afzal', 'Ansari', 'Ankit', 'Shareef', 'Faiyaz', 'Dinesh', 'Dinesh']\n"
     ]
    }
   ],
   "source": [
    "print(teachers)"
   ]
  },
  {
   "cell_type": "code",
   "execution_count": 38,
   "id": "336d8a60-306f-40a6-ac44-4d18379be307",
   "metadata": {},
   "outputs": [
    {
     "name": "stdout",
     "output_type": "stream",
     "text": [
      "['Yaseen', 'Afzal', 'Dinesh', 'Ansari', 'Ankit', 'Shareef', 'Faiyaz', 'Dinesh', 'Dinesh']\n"
     ]
    }
   ],
   "source": [
    "teachers.insert(2, 'Dinesh')\n",
    "print(teachers)"
   ]
  },
  {
   "cell_type": "code",
   "execution_count": 40,
   "id": "8e28bc86-575f-4f9f-be50-f4f622e053fc",
   "metadata": {},
   "outputs": [
    {
     "name": "stdout",
     "output_type": "stream",
     "text": [
      "['Yaseen', 'Afzal', 'Dinesh', 'Ansari', 'Ankit', 'Shareef', 'Faiyaz', 'Dinesh']\n"
     ]
    }
   ],
   "source": [
    "del teachers [7]\n",
    "print(teachers)"
   ]
  },
  {
   "cell_type": "code",
   "execution_count": 41,
   "id": "e2e55760-a4fe-46d6-9753-d4e2d9a88ba1",
   "metadata": {},
   "outputs": [
    {
     "name": "stdout",
     "output_type": "stream",
     "text": [
      "['Yaseen', 'Afzal', 'Dinesh', 'Ansari', 'Ankit', 'Shareef', 'Faiyaz']\n"
     ]
    }
   ],
   "source": [
    "del teachers [7]\n",
    "print(teachers)"
   ]
  },
  {
   "cell_type": "code",
   "execution_count": 43,
   "id": "7ec5584f-d0a4-44a5-8969-d8b70d7cea37",
   "metadata": {},
   "outputs": [
    {
     "name": "stdout",
     "output_type": "stream",
     "text": [
      "['Yaseen', 'Afzal', 'Dinesh', 'Ansari', 'Ankit']\n"
     ]
    }
   ],
   "source": [
    "print(teachers[0:5])"
   ]
  },
  {
   "cell_type": "code",
   "execution_count": 44,
   "id": "b752790c-c540-461c-aa7b-f1b4dc1b208a",
   "metadata": {},
   "outputs": [
    {
     "name": "stdout",
     "output_type": "stream",
     "text": [
      "[]\n"
     ]
    }
   ],
   "source": [
    "print(teachers[1:1])"
   ]
  },
  {
   "cell_type": "code",
   "execution_count": 45,
   "id": "9c1be162-7feb-4a7b-8f83-724179b489b0",
   "metadata": {},
   "outputs": [
    {
     "name": "stdout",
     "output_type": "stream",
     "text": [
      "['Yaseen']\n"
     ]
    }
   ],
   "source": [
    "print(teachers[0:1])"
   ]
  },
  {
   "cell_type": "code",
   "execution_count": 46,
   "id": "6b06b5ba-0f6d-4715-9c62-0281f36d3ae5",
   "metadata": {},
   "outputs": [
    {
     "name": "stdout",
     "output_type": "stream",
     "text": [
      "['Afzal']\n"
     ]
    }
   ],
   "source": [
    "print(teachers[1:2])"
   ]
  },
  {
   "cell_type": "code",
   "execution_count": null,
   "id": "3ec7ed35-e5a0-4b5c-b0e1-8367d8c8bff1",
   "metadata": {},
   "outputs": [],
   "source": []
  }
 ],
 "metadata": {
  "kernelspec": {
   "display_name": "Python 3",
   "language": "python",
   "name": "python3"
  },
  "language_info": {
   "codemirror_mode": {
    "name": "ipython",
    "version": 3
   },
   "file_extension": ".py",
   "mimetype": "text/x-python",
   "name": "python",
   "nbconvert_exporter": "python",
   "pygments_lexer": "ipython3",
   "version": "3.8.8"
  }
 },
 "nbformat": 4,
 "nbformat_minor": 5
}
