{
 "cells": [
  {
   "cell_type": "code",
   "execution_count": null,
   "id": "97884076-1f54-41f2-9176-9beca878a98c",
   "metadata": {},
   "outputs": [],
   "source": [
    "## Variables are used to store the values. This lecture is about variables and how to declare them, the syntax should look like....."
   ]
  },
  {
   "cell_type": "code",
   "execution_count": 7,
   "id": "8e3cd356-f751-4050-8b28-21805dc42df7",
   "metadata": {},
   "outputs": [
    {
     "name": "stdout",
     "output_type": "stream",
     "text": [
      "ali khan\n"
     ]
    }
   ],
   "source": [
    "# Rule 1 : Mo name spaces while dclaring the variable name e.g.    first name = 'ali'   as this will throw syntax error\n",
    "\n",
    "lname = 'khan'\n",
    "print(firstname + \" \" + lname)"
   ]
  },
  {
   "cell_type": "code",
   "execution_count": 2,
   "id": "0b8ef703-e022-40d9-b012-67c470517044",
   "metadata": {},
   "outputs": [
    {
     "ename": "SyntaxError",
     "evalue": "invalid syntax (<ipython-input-2-3349dec0b116>, line 2)",
     "output_type": "error",
     "traceback": [
      "\u001b[1;36m  File \u001b[1;32m\"<ipython-input-2-3349dec0b116>\"\u001b[1;36m, line \u001b[1;32m2\u001b[0m\n\u001b[1;33m    1name = 'kiran'\u001b[0m\n\u001b[1;37m     ^\u001b[0m\n\u001b[1;31mSyntaxError\u001b[0m\u001b[1;31m:\u001b[0m invalid syntax\n"
     ]
    }
   ],
   "source": [
    "## Rule 2: #Variable name should not start with the number\n",
    "\n",
    "1name = 'kiran'\n",
    "print(1name)"
   ]
  },
  {
   "cell_type": "code",
   "execution_count": 5,
   "id": "d7d3cbe5-d283-4f09-8162-afecf3e05a3a",
   "metadata": {},
   "outputs": [
    {
     "name": "stdout",
     "output_type": "stream",
     "text": [
      "kiran\n",
      "Tu hay meriiiiiii : kiran\n"
     ]
    }
   ],
   "source": [
    "name1 = 'kiran'\n",
    "print(name1)\n",
    "\n",
    "print (\"Tu hay meriiiiiii : \"+name1)"
   ]
  },
  {
   "cell_type": "code",
   "execution_count": 6,
   "id": "9d01c831-d085-4d1f-a6d6-80ce40feff4d",
   "metadata": {},
   "outputs": [
    {
     "ename": "SyntaxError",
     "evalue": "invalid syntax (<ipython-input-6-14eeae6efae4>, line 2)",
     "output_type": "error",
     "traceback": [
      "\u001b[1;36m  File \u001b[1;32m\"<ipython-input-6-14eeae6efae4>\"\u001b[1;36m, line \u001b[1;32m2\u001b[0m\n\u001b[1;33m    name@ = 'kavya'\u001b[0m\n\u001b[1;37m          ^\u001b[0m\n\u001b[1;31mSyntaxError\u001b[0m\u001b[1;31m:\u001b[0m invalid syntax\n"
     ]
    }
   ],
   "source": [
    "# Rule No.3 A variable name should not contain any special characters e.g. @ * & % $ \n",
    "name@ = 'kavya'\n",
    "print(name@)"
   ]
  },
  {
   "cell_type": "code",
   "execution_count": null,
   "id": "69267030-2e2e-48b7-87e8-867bc1a8856e",
   "metadata": {},
   "outputs": [],
   "source": [
    "# INTRODUCTION TO DATA TYPES IN PYTHON \n",
    "1. String -- str\n",
    "2. Numbers ---- > integers (int) and float (decimals) (float)\n",
    "3. list ---> list\n",
    "4. tuple --- > tuple \n",
    "5. Dictionaries --- dict\n"
   ]
  },
  {
   "cell_type": "code",
   "execution_count": 8,
   "id": "b3a6b335-0128-4e04-b9d6-b940615a9e54",
   "metadata": {},
   "outputs": [
    {
     "name": "stdout",
     "output_type": "stream",
     "text": [
      "Zafar\n",
      "Supari\n",
      "Khan\n"
     ]
    }
   ],
   "source": [
    "# Classification of Datatypes in Python: \n",
    "#Mutable datatypes - which we can alter or edit/change as it’s flexible \n",
    "#Immutable datatypes – which we cannot alter or edit/change\n",
    "\n",
    "#Introduction to String datatype: \n",
    "#Overview: String is a series of characters enclosed in quotes.\n",
    "#Classification: it is classified as an immutable datatype\n",
    "#How to define string data type?\n",
    "#3 possible combinations.\n",
    "#1.\tSingle quote\n",
    "#2.\tDouble quote\n",
    "#3.\tTriple quote\n",
    "#\n",
    "\n",
    "fname = 'Zafar'\n",
    "lname = \"supari\"\n",
    "Family= \"\"\"Khan\"\"\"\n",
    "print(fname)\n",
    "print(lname)\n",
    "print(Family)"
   ]
  },
  {
   "cell_type": "code",
   "execution_count": 11,
   "id": "0c5ced41-5143-43d2-851d-f43488ed8aa6",
   "metadata": {},
   "outputs": [
    {
     "name": "stdout",
     "output_type": "stream",
     "text": [
      "abdul aziz \n",
      "Abdul Aziz \n"
     ]
    }
   ],
   "source": [
    "# Methods are builtin programs that are available to use in python\n",
    "# TITLE METHOD CONVERTS FIRST LETTER INTO CAPITAL LETTERS\n",
    "#type (name)\n",
    "\n",
    "\n",
    "fullname = 'abdul aziz '\n",
    "print(fullname)\n",
    "\n",
    "print(fullname.title())"
   ]
  },
  {
   "cell_type": "code",
   "execution_count": 12,
   "id": "077608d0-c2dd-4700-a72d-8ffb89956711",
   "metadata": {},
   "outputs": [
    {
     "name": "stdout",
     "output_type": "stream",
     "text": [
      "ABDUL AZIZ \n"
     ]
    }
   ],
   "source": [
    "# Convert the full name into Capitals\n",
    "\n",
    "print(fullname.upper())"
   ]
  },
  {
   "cell_type": "code",
   "execution_count": 13,
   "id": "41c4226f-4108-42df-bb43-d86aa1519884",
   "metadata": {},
   "outputs": [
    {
     "name": "stdout",
     "output_type": "stream",
     "text": [
      "zafar\n"
     ]
    }
   ],
   "source": [
    "# Convert the lprint(fname.lower())"
   ]
  },
  {
   "cell_type": "code",
   "execution_count": 15,
   "id": "c5f6618b-3de5-4de7-8e30-dabee587823a",
   "metadata": {},
   "outputs": [
    {
     "name": "stdout",
     "output_type": "stream",
     "text": [
      "Supari\n"
     ]
    }
   ],
   "source": [
    "print(lname.title())"
   ]
  },
  {
   "cell_type": "code",
   "execution_count": null,
   "id": "f765f81e-142b-4fd8-9061-32812bb40454",
   "metadata": {},
   "outputs": [],
   "source": []
  }
 ],
 "metadata": {
  "kernelspec": {
   "display_name": "Python 3",
   "language": "python",
   "name": "python3"
  },
  "language_info": {
   "codemirror_mode": {
    "name": "ipython",
    "version": 3
   },
   "file_extension": ".py",
   "mimetype": "text/x-python",
   "name": "python",
   "nbconvert_exporter": "python",
   "pygments_lexer": "ipython3",
   "version": "3.8.8"
  }
 },
 "nbformat": 4,
 "nbformat_minor": 5
}
