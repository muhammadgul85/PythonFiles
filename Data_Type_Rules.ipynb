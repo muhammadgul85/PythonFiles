{
 "cells": [
  {
   "cell_type": "code",
   "execution_count": 1,
   "id": "8cef4cff",
   "metadata": {},
   "outputs": [
    {
     "ename": "SyntaxError",
     "evalue": "invalid syntax (<ipython-input-1-cc86a4010cec>, line 1)",
     "output_type": "error",
     "traceback": [
      "\u001b[1;36m  File \u001b[1;32m\"<ipython-input-1-cc86a4010cec>\"\u001b[1;36m, line \u001b[1;32m1\u001b[0m\n\u001b[1;33m    ali khan = 'mm'\u001b[0m\n\u001b[1;37m        ^\u001b[0m\n\u001b[1;31mSyntaxError\u001b[0m\u001b[1;31m:\u001b[0m invalid syntax\n"
     ]
    }
   ],
   "source": [
    "ali khan = 'mm'\n",
    "print(ali khan)\n"
   ]
  },
  {
   "cell_type": "code",
   "execution_count": 3,
   "id": "6c44288f",
   "metadata": {},
   "outputs": [
    {
     "name": "stdout",
     "output_type": "stream",
     "text": [
      "faizuddin\n"
     ]
    }
   ],
   "source": [
    "firstname = 'faizuddin'\n",
    "print(firstname)\n"
   ]
  },
  {
   "cell_type": "code",
   "execution_count": 4,
   "id": "37cbf2cc",
   "metadata": {},
   "outputs": [
    {
     "ename": "SyntaxError",
     "evalue": "invalid syntax (<ipython-input-4-034a1086d88d>, line 1)",
     "output_type": "error",
     "traceback": [
      "\u001b[1;36m  File \u001b[1;32m\"<ipython-input-4-034a1086d88d>\"\u001b[1;36m, line \u001b[1;32m1\u001b[0m\n\u001b[1;33m    1fname ='faiz'\u001b[0m\n\u001b[1;37m     ^\u001b[0m\n\u001b[1;31mSyntaxError\u001b[0m\u001b[1;31m:\u001b[0m invalid syntax\n"
     ]
    }
   ],
   "source": [
    "1fname ='faiz'\n",
    "print(1fname)"
   ]
  },
  {
   "cell_type": "code",
   "execution_count": 5,
   "id": "bebd90d7",
   "metadata": {},
   "outputs": [
    {
     "name": "stdout",
     "output_type": "stream",
     "text": [
      "faiz\n"
     ]
    }
   ],
   "source": [
    "fname1 = 'faiz'\n",
    "print(fname1)"
   ]
  },
  {
   "cell_type": "code",
   "execution_count": 6,
   "id": "636fc448",
   "metadata": {},
   "outputs": [
    {
     "ename": "SyntaxError",
     "evalue": "invalid syntax (<ipython-input-6-808e8785bc57>, line 4)",
     "output_type": "error",
     "traceback": [
      "\u001b[1;36m  File \u001b[1;32m\"<ipython-input-6-808e8785bc57>\"\u001b[1;36m, line \u001b[1;32m4\u001b[0m\n\u001b[1;33m    name@ = 'imran'\u001b[0m\n\u001b[1;37m          ^\u001b[0m\n\u001b[1;31mSyntaxError\u001b[0m\u001b[1;31m:\u001b[0m invalid syntax\n"
     ]
    }
   ],
   "source": [
    "##Rule 1 – No name spaces while declaring variables \n",
    "#Rule 2 – Variable name should not start with a number \n",
    "#Rule 3 – A variable should not contain any special characters e.g. # @ % * $££\n",
    "name@ = 'imran'\n",
    "print(name@)\n",
    "\n"
   ]
  },
  {
   "cell_type": "code",
   "execution_count": 7,
   "id": "66b78dfb",
   "metadata": {},
   "outputs": [
    {
     "name": "stdout",
     "output_type": "stream",
     "text": [
      "Zafar\n",
      "Supari\n",
      "Khan\n"
     ]
    }
   ],
   "source": [
    "#Introduction to datatypes in  Python:\n",
    "#1.\tString – str\n",
    "#2.\tNumber – integers (int) and floats (decimals)\n",
    "#3.\tList \n",
    "#4.\tTuple\n",
    "#5.\tDictionary\n",
    "#Classification of Data types in Python \n",
    "#Mutable datatypes - which we can alter or edit/change as it’s flexible \n",
    "#Immutable datatypes – which we cannot alter or edit/change\n",
    "\n",
    "#Introduction to String datatype: \n",
    "#Overview: String is a series of characters enclosed in quotes.\n",
    "#Classification: it is classified as an immutable datatype\n",
    "#How to define string data type?\n",
    "#3 possible combinations.\n",
    "#1.\tSingle quote\n",
    "#2.\tDouble quote\n",
    "#3.\tTriple quote\n",
    "#\n",
    "\n",
    "fname = 'Zafar'\n",
    "lname = \"Supari\"\n",
    "Family= \"\"\"Khan\"\"\"\n",
    "print(fname)\n",
    "print(lname)\n",
    "print(Family)\n"
   ]
  },
  {
   "cell_type": "code",
   "execution_count": null,
   "id": "f4bdf12d",
   "metadata": {},
   "outputs": [],
   "source": []
  }
 ],
 "metadata": {
  "kernelspec": {
   "display_name": "Python 3",
   "language": "python",
   "name": "python3"
  },
  "language_info": {
   "codemirror_mode": {
    "name": "ipython",
    "version": 3
   },
   "file_extension": ".py",
   "mimetype": "text/x-python",
   "name": "python",
   "nbconvert_exporter": "python",
   "pygments_lexer": "ipython3",
   "version": "3.8.8"
  }
 },
 "nbformat": 4,
 "nbformat_minor": 5
}
